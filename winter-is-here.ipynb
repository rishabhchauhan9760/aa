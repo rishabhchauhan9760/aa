{
 "cells": [
  {
   "cell_type": "code",
   "execution_count": 1,
   "metadata": {
    "_cell_guid": "b1076dfc-b9ad-4769-8c92-a6c4dae69d19",
    "_uuid": "8f2839f25d086af736a60e9eeb907d3b93b6e0e5"
   },
   "outputs": [
    {
     "name": "stdout",
     "output_type": "stream",
     "text": [
      "['sample_submission.csv', 'test.csv', 'train.csv']\n"
     ]
    }
   ],
   "source": [
    "# This Python 3 environment comes with many helpful analytics libraries installed\n",
    "# It is defined by the kaggle/python docker image: https://github.com/kaggle/docker-python\n",
    "# For example, here's several helpful packages to load in \n",
    "\n",
    "import numpy as np # linear algebra\n",
    "import pandas as pd # data processing, CSV file I/O (e.g. pd.read_csv)\n",
    "\n",
    "# Input data files are available in the \"../input/\" directory.\n",
    "# For example, running this (by clicking run or pressing Shift+Enter) will list the files in the input directory\n",
    "\n",
    "import os\n",
    "print(os.listdir(\"../input\"))\n",
    "\n",
    "import numpy as np \n",
    "\n",
    "# data processing\n",
    "import pandas as pd \n",
    "\n",
    "# data visualization\n",
    "import seaborn as sns\n",
    "%matplotlib inline\n",
    "import matplotlib.pyplot as plt\n",
    "from matplotlib import style\n",
    "\n",
    "# Algorithms\n",
    "from sklearn import linear_model\n",
    "from sklearn.linear_model import LogisticRegression\n",
    "from sklearn.ensemble import RandomForestRegressor\n",
    "from sklearn.linear_model import Perceptron\n",
    "from sklearn.linear_model import SGDClassifier\n",
    "from sklearn.tree import DecisionTreeClassifier\n",
    "from sklearn.neighbors import KNeighborsClassifier\n",
    "from sklearn.svm import SVC, LinearSVC\n",
    "from sklearn.naive_bayes import GaussianNB\n",
    "from sklearn.model_selection import train_test_split, cross_val_score, GridSearchCV\n",
    "from sklearn.metrics import accuracy_score\n",
    "# Any results you write to the current directory are saved as output."
   ]
  },
  {
   "cell_type": "code",
   "execution_count": 2,
   "metadata": {
    "_cell_guid": "79c7e3d0-c299-4dcb-8224-4455121ee9b0",
    "_kg_hide-input": false,
    "_uuid": "d629ff2d2480ee46fbb7e2d37f6b5fab8052498a"
   },
   "outputs": [],
   "source": [
    "train_df = pd.read_csv('../input/train.csv')\n",
    "test_df = pd.read_csv('../input/test.csv')"
   ]
  },
  {
   "cell_type": "code",
   "execution_count": 3,
   "metadata": {},
   "outputs": [
    {
     "data": {
      "text/html": [
       "<div>\n",
       "<style scoped>\n",
       "    .dataframe tbody tr th:only-of-type {\n",
       "        vertical-align: middle;\n",
       "    }\n",
       "\n",
       "    .dataframe tbody tr th {\n",
       "        vertical-align: top;\n",
       "    }\n",
       "\n",
       "    .dataframe thead th {\n",
       "        text-align: right;\n",
       "    }\n",
       "</style>\n",
       "<table border=\"1\" class=\"dataframe\">\n",
       "  <thead>\n",
       "    <tr style=\"text-align: right;\">\n",
       "      <th></th>\n",
       "      <th>soldierId</th>\n",
       "      <th>shipId</th>\n",
       "      <th>attackId</th>\n",
       "      <th>assists</th>\n",
       "      <th>greekFireItems</th>\n",
       "      <th>healthLost</th>\n",
       "      <th>knockedOutSoldiers</th>\n",
       "      <th>throatSlits</th>\n",
       "      <th>healingPotionsUsed</th>\n",
       "      <th>killRank</th>\n",
       "      <th>killPoints</th>\n",
       "      <th>enemiesKilled</th>\n",
       "      <th>killingStreaks</th>\n",
       "      <th>farthermostKill</th>\n",
       "      <th>numShips</th>\n",
       "      <th>numSaves</th>\n",
       "      <th>horseRideDistance</th>\n",
       "      <th>horseRideKills</th>\n",
       "      <th>swimmingDistance</th>\n",
       "      <th>friendlyKills</th>\n",
       "      <th>castleTowerDestroys</th>\n",
       "      <th>onFootDistance</th>\n",
       "      <th>weaponsUsed</th>\n",
       "      <th>respectEarned</th>\n",
       "      <th>bestSoldierPerc</th>\n",
       "    </tr>\n",
       "  </thead>\n",
       "  <tbody>\n",
       "    <tr>\n",
       "      <th>count</th>\n",
       "      <td>4.357336e+06</td>\n",
       "      <td>4.357336e+06</td>\n",
       "      <td>4.357336e+06</td>\n",
       "      <td>4.357336e+06</td>\n",
       "      <td>4.357336e+06</td>\n",
       "      <td>4.357336e+06</td>\n",
       "      <td>4.357336e+06</td>\n",
       "      <td>4.357336e+06</td>\n",
       "      <td>4.357336e+06</td>\n",
       "      <td>4.357336e+06</td>\n",
       "      <td>4.357336e+06</td>\n",
       "      <td>4.357336e+06</td>\n",
       "      <td>4.357336e+06</td>\n",
       "      <td>4.357336e+06</td>\n",
       "      <td>4.357336e+06</td>\n",
       "      <td>4.357336e+06</td>\n",
       "      <td>4.357336e+06</td>\n",
       "      <td>4.357336e+06</td>\n",
       "      <td>4.357336e+06</td>\n",
       "      <td>4.357336e+06</td>\n",
       "      <td>4.357336e+06</td>\n",
       "      <td>4.357336e+06</td>\n",
       "      <td>4.357336e+06</td>\n",
       "      <td>4.357336e+06</td>\n",
       "      <td>4.357336e+06</td>\n",
       "    </tr>\n",
       "    <tr>\n",
       "      <th>mean</th>\n",
       "      <td>3.102678e+06</td>\n",
       "      <td>1.024777e+06</td>\n",
       "      <td>2.385539e+04</td>\n",
       "      <td>2.656320e-01</td>\n",
       "      <td>9.636856e-01</td>\n",
       "      <td>1.329033e+02</td>\n",
       "      <td>6.901455e-01</td>\n",
       "      <td>2.385866e-01</td>\n",
       "      <td>1.187169e+00</td>\n",
       "      <td>4.703440e+01</td>\n",
       "      <td>1.080898e+03</td>\n",
       "      <td>9.344958e-01</td>\n",
       "      <td>1.001849e+01</td>\n",
       "      <td>7.340537e+00</td>\n",
       "      <td>4.058035e+01</td>\n",
       "      <td>1.649345e-01</td>\n",
       "      <td>4.238835e+02</td>\n",
       "      <td>2.557985e-03</td>\n",
       "      <td>4.136261e+00</td>\n",
       "      <td>9.532814e+00</td>\n",
       "      <td>5.146264e-03</td>\n",
       "      <td>1.055122e+03</td>\n",
       "      <td>3.457289e+00</td>\n",
       "      <td>1.500504e+03</td>\n",
       "      <td>4.718663e-01</td>\n",
       "    </tr>\n",
       "    <tr>\n",
       "      <th>std</th>\n",
       "      <td>1.797477e+06</td>\n",
       "      <td>6.967197e+05</td>\n",
       "      <td>1.378227e+04</td>\n",
       "      <td>6.342160e-01</td>\n",
       "      <td>1.560643e+00</td>\n",
       "      <td>1.699439e+02</td>\n",
       "      <td>1.191514e+00</td>\n",
       "      <td>6.103033e-01</td>\n",
       "      <td>2.366389e+00</td>\n",
       "      <td>2.732772e+01</td>\n",
       "      <td>1.237119e+02</td>\n",
       "      <td>1.566192e+00</td>\n",
       "      <td>2.918988e+01</td>\n",
       "      <td>4.944640e+01</td>\n",
       "      <td>2.206667e+01</td>\n",
       "      <td>4.672004e-01</td>\n",
       "      <td>1.222927e+03</td>\n",
       "      <td>6.346679e-02</td>\n",
       "      <td>2.757015e+01</td>\n",
       "      <td>2.934563e+01</td>\n",
       "      <td>7.425362e-02</td>\n",
       "      <td>1.116122e+03</td>\n",
       "      <td>2.402109e+00</td>\n",
       "      <td>4.253571e+01</td>\n",
       "      <td>3.079147e-01</td>\n",
       "    </tr>\n",
       "    <tr>\n",
       "      <th>min</th>\n",
       "      <td>0.000000e+00</td>\n",
       "      <td>1.000000e+00</td>\n",
       "      <td>0.000000e+00</td>\n",
       "      <td>0.000000e+00</td>\n",
       "      <td>0.000000e+00</td>\n",
       "      <td>0.000000e+00</td>\n",
       "      <td>0.000000e+00</td>\n",
       "      <td>0.000000e+00</td>\n",
       "      <td>0.000000e+00</td>\n",
       "      <td>1.000000e+00</td>\n",
       "      <td>1.550000e+02</td>\n",
       "      <td>0.000000e+00</td>\n",
       "      <td>0.000000e+00</td>\n",
       "      <td>-1.031000e+03</td>\n",
       "      <td>1.000000e+00</td>\n",
       "      <td>0.000000e+00</td>\n",
       "      <td>0.000000e+00</td>\n",
       "      <td>0.000000e+00</td>\n",
       "      <td>0.000000e+00</td>\n",
       "      <td>0.000000e+00</td>\n",
       "      <td>0.000000e+00</td>\n",
       "      <td>0.000000e+00</td>\n",
       "      <td>0.000000e+00</td>\n",
       "      <td>3.500000e+02</td>\n",
       "      <td>0.000000e+00</td>\n",
       "    </tr>\n",
       "    <tr>\n",
       "      <th>25%</th>\n",
       "      <td>1.537746e+06</td>\n",
       "      <td>4.741378e+05</td>\n",
       "      <td>1.191400e+04</td>\n",
       "      <td>0.000000e+00</td>\n",
       "      <td>0.000000e+00</td>\n",
       "      <td>0.000000e+00</td>\n",
       "      <td>0.000000e+00</td>\n",
       "      <td>0.000000e+00</td>\n",
       "      <td>0.000000e+00</td>\n",
       "      <td>2.300000e+01</td>\n",
       "      <td>1.000000e+03</td>\n",
       "      <td>0.000000e+00</td>\n",
       "      <td>0.000000e+00</td>\n",
       "      <td>0.000000e+00</td>\n",
       "      <td>2.600000e+01</td>\n",
       "      <td>0.000000e+00</td>\n",
       "      <td>0.000000e+00</td>\n",
       "      <td>0.000000e+00</td>\n",
       "      <td>0.000000e+00</td>\n",
       "      <td>0.000000e+00</td>\n",
       "      <td>0.000000e+00</td>\n",
       "      <td>1.334000e+02</td>\n",
       "      <td>2.000000e+00</td>\n",
       "      <td>1.491000e+03</td>\n",
       "      <td>1.979000e-01</td>\n",
       "    </tr>\n",
       "    <tr>\n",
       "      <th>50%</th>\n",
       "      <td>3.110606e+06</td>\n",
       "      <td>9.430320e+05</td>\n",
       "      <td>2.383700e+04</td>\n",
       "      <td>0.000000e+00</td>\n",
       "      <td>0.000000e+00</td>\n",
       "      <td>8.776000e+01</td>\n",
       "      <td>0.000000e+00</td>\n",
       "      <td>0.000000e+00</td>\n",
       "      <td>0.000000e+00</td>\n",
       "      <td>4.700000e+01</td>\n",
       "      <td>1.029000e+03</td>\n",
       "      <td>0.000000e+00</td>\n",
       "      <td>0.000000e+00</td>\n",
       "      <td>0.000000e+00</td>\n",
       "      <td>2.900000e+01</td>\n",
       "      <td>0.000000e+00</td>\n",
       "      <td>0.000000e+00</td>\n",
       "      <td>0.000000e+00</td>\n",
       "      <td>0.000000e+00</td>\n",
       "      <td>0.000000e+00</td>\n",
       "      <td>0.000000e+00</td>\n",
       "      <td>5.732000e+02</td>\n",
       "      <td>3.000000e+00</td>\n",
       "      <td>1.500000e+03</td>\n",
       "      <td>4.583000e-01</td>\n",
       "    </tr>\n",
       "    <tr>\n",
       "      <th>75%</th>\n",
       "      <td>4.657295e+06</td>\n",
       "      <td>1.418544e+06</td>\n",
       "      <td>3.580100e+04</td>\n",
       "      <td>0.000000e+00</td>\n",
       "      <td>1.000000e+00</td>\n",
       "      <td>1.884000e+02</td>\n",
       "      <td>1.000000e+00</td>\n",
       "      <td>0.000000e+00</td>\n",
       "      <td>1.000000e+00</td>\n",
       "      <td>7.000000e+01</td>\n",
       "      <td>1.126000e+03</td>\n",
       "      <td>1.000000e+00</td>\n",
       "      <td>1.000000e+00</td>\n",
       "      <td>4.551000e+00</td>\n",
       "      <td>4.700000e+01</td>\n",
       "      <td>0.000000e+00</td>\n",
       "      <td>0.000000e+00</td>\n",
       "      <td>0.000000e+00</td>\n",
       "      <td>0.000000e+00</td>\n",
       "      <td>0.000000e+00</td>\n",
       "      <td>0.000000e+00</td>\n",
       "      <td>1.808000e+03</td>\n",
       "      <td>5.000000e+00</td>\n",
       "      <td>1.510000e+03</td>\n",
       "      <td>7.407000e-01</td>\n",
       "    </tr>\n",
       "    <tr>\n",
       "      <th>max</th>\n",
       "      <td>6.224522e+06</td>\n",
       "      <td>2.700605e+06</td>\n",
       "      <td>4.773300e+04</td>\n",
       "      <td>2.000000e+01</td>\n",
       "      <td>1.800000e+01</td>\n",
       "      <td>6.384000e+03</td>\n",
       "      <td>6.300000e+01</td>\n",
       "      <td>2.600000e+01</td>\n",
       "      <td>5.900000e+01</td>\n",
       "      <td>1.000000e+02</td>\n",
       "      <td>2.047000e+03</td>\n",
       "      <td>6.000000e+01</td>\n",
       "      <td>1.000000e+02</td>\n",
       "      <td>1.323000e+03</td>\n",
       "      <td>1.000000e+02</td>\n",
       "      <td>4.100000e+01</td>\n",
       "      <td>4.839000e+04</td>\n",
       "      <td>4.200000e+01</td>\n",
       "      <td>5.286000e+03</td>\n",
       "      <td>1.000000e+02</td>\n",
       "      <td>5.000000e+00</td>\n",
       "      <td>1.730000e+04</td>\n",
       "      <td>7.600000e+01</td>\n",
       "      <td>1.923000e+03</td>\n",
       "      <td>1.000000e+00</td>\n",
       "    </tr>\n",
       "  </tbody>\n",
       "</table>\n",
       "</div>"
      ],
      "text/plain": [
       "          soldierId       ...         bestSoldierPerc\n",
       "count  4.357336e+06       ...            4.357336e+06\n",
       "mean   3.102678e+06       ...            4.718663e-01\n",
       "std    1.797477e+06       ...            3.079147e-01\n",
       "min    0.000000e+00       ...            0.000000e+00\n",
       "25%    1.537746e+06       ...            1.979000e-01\n",
       "50%    3.110606e+06       ...            4.583000e-01\n",
       "75%    4.657295e+06       ...            7.407000e-01\n",
       "max    6.224522e+06       ...            1.000000e+00\n",
       "\n",
       "[8 rows x 25 columns]"
      ]
     },
     "execution_count": 3,
     "metadata": {},
     "output_type": "execute_result"
    }
   ],
   "source": [
    "train_df.describe()"
   ]
  },
  {
   "cell_type": "code",
   "execution_count": 4,
   "metadata": {},
   "outputs": [
    {
     "name": "stdout",
     "output_type": "stream",
     "text": [
      "<class 'pandas.core.frame.DataFrame'>\n",
      "RangeIndex: 4357336 entries, 0 to 4357335\n",
      "Data columns (total 25 columns):\n",
      "soldierId              float64\n",
      "shipId                 float64\n",
      "attackId               float64\n",
      "assists                float64\n",
      "greekFireItems         float64\n",
      "healthLost             float64\n",
      "knockedOutSoldiers     float64\n",
      "throatSlits            float64\n",
      "healingPotionsUsed     float64\n",
      "killRank               float64\n",
      "killPoints             float64\n",
      "enemiesKilled          float64\n",
      "killingStreaks         float64\n",
      "farthermostKill        float64\n",
      "numShips               float64\n",
      "numSaves               float64\n",
      "horseRideDistance      float64\n",
      "horseRideKills         float64\n",
      "swimmingDistance       float64\n",
      "friendlyKills          float64\n",
      "castleTowerDestroys    float64\n",
      "onFootDistance         float64\n",
      "weaponsUsed            float64\n",
      "respectEarned          float64\n",
      "bestSoldierPerc        float64\n",
      "dtypes: float64(25)\n",
      "memory usage: 831.1 MB\n"
     ]
    }
   ],
   "source": [
    "train_df.info()"
   ]
  },
  {
   "cell_type": "code",
   "execution_count": 5,
   "metadata": {},
   "outputs": [
    {
     "data": {
      "text/html": [
       "<div>\n",
       "<style scoped>\n",
       "    .dataframe tbody tr th:only-of-type {\n",
       "        vertical-align: middle;\n",
       "    }\n",
       "\n",
       "    .dataframe tbody tr th {\n",
       "        vertical-align: top;\n",
       "    }\n",
       "\n",
       "    .dataframe thead th {\n",
       "        text-align: right;\n",
       "    }\n",
       "</style>\n",
       "<table border=\"1\" class=\"dataframe\">\n",
       "  <thead>\n",
       "    <tr style=\"text-align: right;\">\n",
       "      <th></th>\n",
       "      <th>Unnamed: 0</th>\n",
       "      <th>index</th>\n",
       "      <th>soldierId</th>\n",
       "      <th>shipId</th>\n",
       "      <th>attackId</th>\n",
       "      <th>assists</th>\n",
       "      <th>greekFireItems</th>\n",
       "      <th>healthLost</th>\n",
       "      <th>knockedOutSoldiers</th>\n",
       "      <th>throatSlits</th>\n",
       "      <th>healingPotionsUsed</th>\n",
       "      <th>killRank</th>\n",
       "      <th>killPoints</th>\n",
       "      <th>enemiesKilled</th>\n",
       "      <th>killingStreaks</th>\n",
       "      <th>farthermostKill</th>\n",
       "      <th>numShips</th>\n",
       "      <th>numSaves</th>\n",
       "      <th>horseRideDistance</th>\n",
       "      <th>horseRideKills</th>\n",
       "      <th>swimmingDistance</th>\n",
       "      <th>friendlyKills</th>\n",
       "      <th>castleTowerDestroys</th>\n",
       "      <th>onFootDistance</th>\n",
       "      <th>weaponsUsed</th>\n",
       "      <th>respectEarned</th>\n",
       "    </tr>\n",
       "  </thead>\n",
       "  <tbody>\n",
       "    <tr>\n",
       "      <th>count</th>\n",
       "      <td>13716.000000</td>\n",
       "      <td>1.371600e+04</td>\n",
       "      <td>1.371600e+04</td>\n",
       "      <td>1.371600e+04</td>\n",
       "      <td>13716.000000</td>\n",
       "      <td>13716.000000</td>\n",
       "      <td>13716.000000</td>\n",
       "      <td>13716.000000</td>\n",
       "      <td>13716.000000</td>\n",
       "      <td>13716.000000</td>\n",
       "      <td>13716.000000</td>\n",
       "      <td>13716.000000</td>\n",
       "      <td>13716.000000</td>\n",
       "      <td>13716.000000</td>\n",
       "      <td>13716.000000</td>\n",
       "      <td>13716.000000</td>\n",
       "      <td>13716.000000</td>\n",
       "      <td>13716.000000</td>\n",
       "      <td>13716.000000</td>\n",
       "      <td>13716.000000</td>\n",
       "      <td>13716.000000</td>\n",
       "      <td>13716.000000</td>\n",
       "      <td>13716.000000</td>\n",
       "      <td>13716.000000</td>\n",
       "      <td>13716.000000</td>\n",
       "      <td>13716.000000</td>\n",
       "    </tr>\n",
       "    <tr>\n",
       "      <th>mean</th>\n",
       "      <td>6857.500000</td>\n",
       "      <td>9.258044e+05</td>\n",
       "      <td>3.131012e+06</td>\n",
       "      <td>1.662540e+06</td>\n",
       "      <td>47809.099665</td>\n",
       "      <td>0.249708</td>\n",
       "      <td>0.942403</td>\n",
       "      <td>131.077332</td>\n",
       "      <td>0.679280</td>\n",
       "      <td>0.230971</td>\n",
       "      <td>1.120225</td>\n",
       "      <td>47.127515</td>\n",
       "      <td>1081.136045</td>\n",
       "      <td>0.921770</td>\n",
       "      <td>10.245626</td>\n",
       "      <td>6.966084</td>\n",
       "      <td>40.554608</td>\n",
       "      <td>0.163313</td>\n",
       "      <td>359.170248</td>\n",
       "      <td>0.003135</td>\n",
       "      <td>4.714463</td>\n",
       "      <td>9.568169</td>\n",
       "      <td>0.004958</td>\n",
       "      <td>1011.720692</td>\n",
       "      <td>3.355279</td>\n",
       "      <td>1500.643336</td>\n",
       "    </tr>\n",
       "    <tr>\n",
       "      <th>std</th>\n",
       "      <td>3959.612481</td>\n",
       "      <td>5.411667e+05</td>\n",
       "      <td>1.800944e+06</td>\n",
       "      <td>1.818650e+03</td>\n",
       "      <td>43.145745</td>\n",
       "      <td>0.603656</td>\n",
       "      <td>1.505719</td>\n",
       "      <td>163.665393</td>\n",
       "      <td>1.125587</td>\n",
       "      <td>0.579658</td>\n",
       "      <td>2.227472</td>\n",
       "      <td>27.416585</td>\n",
       "      <td>123.045542</td>\n",
       "      <td>1.502533</td>\n",
       "      <td>29.505979</td>\n",
       "      <td>48.031319</td>\n",
       "      <td>21.794369</td>\n",
       "      <td>0.461905</td>\n",
       "      <td>1143.102154</td>\n",
       "      <td>0.067703</td>\n",
       "      <td>28.937116</td>\n",
       "      <td>29.399734</td>\n",
       "      <td>0.071269</td>\n",
       "      <td>1078.710032</td>\n",
       "      <td>2.216528</td>\n",
       "      <td>38.870614</td>\n",
       "    </tr>\n",
       "    <tr>\n",
       "      <th>min</th>\n",
       "      <td>0.000000</td>\n",
       "      <td>0.000000e+00</td>\n",
       "      <td>4.773400e+04</td>\n",
       "      <td>1.659448e+06</td>\n",
       "      <td>47734.000000</td>\n",
       "      <td>0.000000</td>\n",
       "      <td>0.000000</td>\n",
       "      <td>0.000000</td>\n",
       "      <td>0.000000</td>\n",
       "      <td>0.000000</td>\n",
       "      <td>0.000000</td>\n",
       "      <td>1.000000</td>\n",
       "      <td>168.000000</td>\n",
       "      <td>0.000000</td>\n",
       "      <td>0.000000</td>\n",
       "      <td>-598.600000</td>\n",
       "      <td>6.000000</td>\n",
       "      <td>0.000000</td>\n",
       "      <td>0.000000</td>\n",
       "      <td>0.000000</td>\n",
       "      <td>0.000000</td>\n",
       "      <td>0.000000</td>\n",
       "      <td>0.000000</td>\n",
       "      <td>0.000000</td>\n",
       "      <td>0.000000</td>\n",
       "      <td>609.000000</td>\n",
       "    </tr>\n",
       "    <tr>\n",
       "      <th>25%</th>\n",
       "      <td>3428.750000</td>\n",
       "      <td>4.485478e+05</td>\n",
       "      <td>1.542307e+06</td>\n",
       "      <td>1.660926e+06</td>\n",
       "      <td>47772.000000</td>\n",
       "      <td>0.000000</td>\n",
       "      <td>0.000000</td>\n",
       "      <td>0.000000</td>\n",
       "      <td>0.000000</td>\n",
       "      <td>0.000000</td>\n",
       "      <td>0.000000</td>\n",
       "      <td>23.000000</td>\n",
       "      <td>1000.000000</td>\n",
       "      <td>0.000000</td>\n",
       "      <td>0.000000</td>\n",
       "      <td>0.000000</td>\n",
       "      <td>26.000000</td>\n",
       "      <td>0.000000</td>\n",
       "      <td>0.000000</td>\n",
       "      <td>0.000000</td>\n",
       "      <td>0.000000</td>\n",
       "      <td>0.000000</td>\n",
       "      <td>0.000000</td>\n",
       "      <td>123.900000</td>\n",
       "      <td>2.000000</td>\n",
       "      <td>1491.000000</td>\n",
       "    </tr>\n",
       "    <tr>\n",
       "      <th>50%</th>\n",
       "      <td>6857.500000</td>\n",
       "      <td>9.319585e+05</td>\n",
       "      <td>3.152748e+06</td>\n",
       "      <td>1.662594e+06</td>\n",
       "      <td>47810.000000</td>\n",
       "      <td>0.000000</td>\n",
       "      <td>0.000000</td>\n",
       "      <td>85.345000</td>\n",
       "      <td>0.000000</td>\n",
       "      <td>0.000000</td>\n",
       "      <td>0.000000</td>\n",
       "      <td>47.000000</td>\n",
       "      <td>1029.000000</td>\n",
       "      <td>0.000000</td>\n",
       "      <td>0.000000</td>\n",
       "      <td>0.000000</td>\n",
       "      <td>29.000000</td>\n",
       "      <td>0.000000</td>\n",
       "      <td>0.000000</td>\n",
       "      <td>0.000000</td>\n",
       "      <td>0.000000</td>\n",
       "      <td>0.000000</td>\n",
       "      <td>0.000000</td>\n",
       "      <td>540.050000</td>\n",
       "      <td>3.000000</td>\n",
       "      <td>1500.000000</td>\n",
       "    </tr>\n",
       "    <tr>\n",
       "      <th>75%</th>\n",
       "      <td>10286.250000</td>\n",
       "      <td>1.389403e+06</td>\n",
       "      <td>4.676845e+06</td>\n",
       "      <td>1.664034e+06</td>\n",
       "      <td>47846.000000</td>\n",
       "      <td>0.000000</td>\n",
       "      <td>1.000000</td>\n",
       "      <td>187.600000</td>\n",
       "      <td>1.000000</td>\n",
       "      <td>0.000000</td>\n",
       "      <td>1.000000</td>\n",
       "      <td>70.000000</td>\n",
       "      <td>1125.250000</td>\n",
       "      <td>1.000000</td>\n",
       "      <td>1.000000</td>\n",
       "      <td>4.586250</td>\n",
       "      <td>48.000000</td>\n",
       "      <td>0.000000</td>\n",
       "      <td>0.000000</td>\n",
       "      <td>0.000000</td>\n",
       "      <td>0.000000</td>\n",
       "      <td>0.000000</td>\n",
       "      <td>0.000000</td>\n",
       "      <td>1733.000000</td>\n",
       "      <td>5.000000</td>\n",
       "      <td>1510.000000</td>\n",
       "    </tr>\n",
       "    <tr>\n",
       "      <th>max</th>\n",
       "      <td>13715.000000</td>\n",
       "      <td>1.867190e+06</td>\n",
       "      <td>6.224526e+06</td>\n",
       "      <td>1.665866e+06</td>\n",
       "      <td>47883.000000</td>\n",
       "      <td>6.000000</td>\n",
       "      <td>11.000000</td>\n",
       "      <td>1688.000000</td>\n",
       "      <td>12.000000</td>\n",
       "      <td>7.000000</td>\n",
       "      <td>25.000000</td>\n",
       "      <td>100.000000</td>\n",
       "      <td>1873.000000</td>\n",
       "      <td>16.000000</td>\n",
       "      <td>100.000000</td>\n",
       "      <td>596.700000</td>\n",
       "      <td>98.000000</td>\n",
       "      <td>5.000000</td>\n",
       "      <td>26910.000000</td>\n",
       "      <td>4.000000</td>\n",
       "      <td>880.200000</td>\n",
       "      <td>100.000000</td>\n",
       "      <td>2.000000</td>\n",
       "      <td>9515.000000</td>\n",
       "      <td>23.000000</td>\n",
       "      <td>1803.000000</td>\n",
       "    </tr>\n",
       "  </tbody>\n",
       "</table>\n",
       "</div>"
      ],
      "text/plain": [
       "         Unnamed: 0         index      ...         weaponsUsed  respectEarned\n",
       "count  13716.000000  1.371600e+04      ...        13716.000000   13716.000000\n",
       "mean    6857.500000  9.258044e+05      ...            3.355279    1500.643336\n",
       "std     3959.612481  5.411667e+05      ...            2.216528      38.870614\n",
       "min        0.000000  0.000000e+00      ...            0.000000     609.000000\n",
       "25%     3428.750000  4.485478e+05      ...            2.000000    1491.000000\n",
       "50%     6857.500000  9.319585e+05      ...            3.000000    1500.000000\n",
       "75%    10286.250000  1.389403e+06      ...            5.000000    1510.000000\n",
       "max    13715.000000  1.867190e+06      ...           23.000000    1803.000000\n",
       "\n",
       "[8 rows x 26 columns]"
      ]
     },
     "execution_count": 5,
     "metadata": {},
     "output_type": "execute_result"
    }
   ],
   "source": [
    "test_df.describe()"
   ]
  },
  {
   "cell_type": "code",
   "execution_count": 6,
   "metadata": {},
   "outputs": [
    {
     "name": "stdout",
     "output_type": "stream",
     "text": [
      "<class 'pandas.core.frame.DataFrame'>\n",
      "RangeIndex: 13716 entries, 0 to 13715\n",
      "Data columns (total 26 columns):\n",
      "Unnamed: 0             13716 non-null int64\n",
      "index                  13716 non-null int64\n",
      "soldierId              13716 non-null float64\n",
      "shipId                 13716 non-null float64\n",
      "attackId               13716 non-null float64\n",
      "assists                13716 non-null float64\n",
      "greekFireItems         13716 non-null float64\n",
      "healthLost             13716 non-null float64\n",
      "knockedOutSoldiers     13716 non-null float64\n",
      "throatSlits            13716 non-null float64\n",
      "healingPotionsUsed     13716 non-null float64\n",
      "killRank               13716 non-null float64\n",
      "killPoints             13716 non-null float64\n",
      "enemiesKilled          13716 non-null float64\n",
      "killingStreaks         13716 non-null float64\n",
      "farthermostKill        13716 non-null float64\n",
      "numShips               13716 non-null float64\n",
      "numSaves               13716 non-null float64\n",
      "horseRideDistance      13716 non-null float64\n",
      "horseRideKills         13716 non-null float64\n",
      "swimmingDistance       13716 non-null float64\n",
      "friendlyKills          13716 non-null float64\n",
      "castleTowerDestroys    13716 non-null float64\n",
      "onFootDistance         13716 non-null float64\n",
      "weaponsUsed            13716 non-null float64\n",
      "respectEarned          13716 non-null float64\n",
      "dtypes: float64(24), int64(2)\n",
      "memory usage: 2.7 MB\n"
     ]
    }
   ],
   "source": [
    "test_df.info()"
   ]
  },
  {
   "cell_type": "code",
   "execution_count": 7,
   "metadata": {},
   "outputs": [
    {
     "data": {
      "text/plain": [
       "<matplotlib.axes._subplots.AxesSubplot at 0x7f204c54dd30>"
      ]
     },
     "execution_count": 7,
     "metadata": {},
     "output_type": "execute_result"
    },
    {
     "data": {
      "image/png": "[encoded data removed]",
      "text/plain": [
       "<Figure size 432x288 with 2 Axes>"
      ]
     },
     "metadata": {},
     "output_type": "display_data"
    }
   ],
   "source": [
    "import seaborn as sns\n",
    "corr = train_df.corr()\n",
    "sns.heatmap(corr, \n",
    "            xticklabels=corr.columns.values,\n",
    "            yticklabels=corr.columns.values)"
   ]
  },
  {
   "cell_type": "code",
   "execution_count": 8,
   "metadata": {},
   "outputs": [
    {
     "data": {
      "text/plain": [
       "Index(['assists', 'greekFireItems', 'healthLost', 'knockedOutSoldiers',\n",
       "       'throatSlits', 'healingPotionsUsed', 'killRank', 'killPoints',\n",
       "       'enemiesKilled', 'killingStreaks', 'farthermostKill', 'numShips',\n",
       "       'numSaves', 'horseRideDistance', 'horseRideKills', 'swimmingDistance',\n",
       "       'friendlyKills', 'castleTowerDestroys', 'onFootDistance', 'weaponsUsed',\n",
       "       'respectEarned', 'bestSoldierPerc'],\n",
       "      dtype='object')"
      ]
     },
     "execution_count": 8,
     "metadata": {},
     "output_type": "execute_result"
    }
   ],
   "source": [
    "train=train_df.drop([ 'soldierId', 'shipId', 'attackId'],axis=1)\n",
    "train.columns"
   ]
  },
  {
   "cell_type": "code",
   "execution_count": 9,
   "metadata": {},
   "outputs": [
    {
     "data": {
      "text/plain": [
       "Index(['Unnamed: 0', 'index', 'assists', 'greekFireItems', 'healthLost',\n",
       "       'knockedOutSoldiers', 'throatSlits', 'healingPotionsUsed', 'killRank',\n",
       "       'killPoints', 'enemiesKilled', 'killingStreaks', 'farthermostKill',\n",
       "       'numShips', 'numSaves', 'horseRideDistance', 'horseRideKills',\n",
       "       'swimmingDistance', 'friendlyKills', 'castleTowerDestroys',\n",
       "       'onFootDistance', 'weaponsUsed', 'respectEarned'],\n",
       "      dtype='object')"
      ]
     },
     "execution_count": 9,
     "metadata": {},
     "output_type": "execute_result"
    }
   ],
   "source": [
    "test=test_df.drop([ 'soldierId', 'shipId', 'attackId'],axis=1)\n",
    "test.columns"
   ]
  },
  {
   "cell_type": "code",
   "execution_count": 10,
   "metadata": {},
   "outputs": [],
   "source": [
    "test = test.drop(['Unnamed: 0'],axis=1)\n",
    "test = test.drop(['index'],axis=1)"
   ]
  },
  {
   "cell_type": "code",
   "execution_count": 11,
   "metadata": {},
   "outputs": [
    {
     "data": {
      "text/plain": [
       "(13716, 21)"
      ]
     },
     "execution_count": 11,
     "metadata": {},
     "output_type": "execute_result"
    }
   ],
   "source": [
    "test.shape"
   ]
  },
  {
   "cell_type": "code",
   "execution_count": 12,
   "metadata": {},
   "outputs": [
    {
     "name": "stderr",
     "output_type": "stream",
     "text": [
      "/opt/conda/lib/python3.6/site-packages/scipy/stats/stats.py:1713: FutureWarning: Using a non-tuple sequence for multidimensional indexing is deprecated; use `arr[tuple(seq)]` instead of `arr[seq]`. In the future this will be interpreted as an array index, `arr[np.array(seq)]`, which will result either in an error or a different result.\n",
      "  return np.add.reduce(sorted[indexer] * weights, axis=axis) / sumval\n"
     ]
    },
    {
     "data": {
      "image/png": "[encoded data removed]",
      "text/plain": [
       "<Figure size 864x288 with 1 Axes>"
      ]
     },
     "metadata": {},
     "output_type": "display_data"
    }
   ],
   "source": [
    "plt.figure(figsize=(12,4))\n",
    "sns.distplot(train['weaponsUsed'], bins=10)\n",
    "plt.show()"
   ]
  },
  {
   "cell_type": "code",
   "execution_count": 13,
   "metadata": {},
   "outputs": [
    {
     "name": "stderr",
     "output_type": "stream",
     "text": [
      "/opt/conda/lib/python3.6/site-packages/scipy/stats/stats.py:1713: FutureWarning: Using a non-tuple sequence for multidimensional indexing is deprecated; use `arr[tuple(seq)]` instead of `arr[seq]`. In the future this will be interpreted as an array index, `arr[np.array(seq)]`, which will result either in an error or a different result.\n",
      "  return np.add.reduce(sorted[indexer] * weights, axis=axis) / sumval\n"
     ]
    },
    {
     "data": {
      "image/png": "[encoded data removed]",
      "text/plain": [
       "<Figure size 864x288 with 1 Axes>"
      ]
     },
     "metadata": {},
     "output_type": "display_data"
    }
   ],
   "source": [
    "plt.figure(figsize=(12,4))\n",
    "sns.distplot(train['weaponsUsed'], bins=10)\n",
    "plt.show()"
   ]
  },
  {
   "cell_type": "code",
   "execution_count": 14,
   "metadata": {},
   "outputs": [
    {
     "name": "stderr",
     "output_type": "stream",
     "text": [
      "/opt/conda/lib/python3.6/site-packages/scipy/stats/stats.py:1713: FutureWarning: Using a non-tuple sequence for multidimensional indexing is deprecated; use `arr[tuple(seq)]` instead of `arr[seq]`. In the future this will be interpreted as an array index, `arr[np.array(seq)]`, which will result either in an error or a different result.\n",
      "  return np.add.reduce(sorted[indexer] * weights, axis=axis) / sumval\n"
     ]
    },
    {
     "data": {
      "image/png": "[encoded data removed]",
      "text/plain": [
       "<Figure size 864x288 with 1 Axes>"
      ]
     },
     "metadata": {},
     "output_type": "display_data"
    }
   ],
   "source": [
    "plt.figure(figsize=(12,4))\n",
    "sns.distplot(train['farthermostKill'], bins=10)\n",
    "plt.show()"
   ]
  },
  {
   "cell_type": "code",
   "execution_count": 15,
   "metadata": {},
   "outputs": [],
   "source": [
    "test=test_df.drop([ 'weaponsUsed'],axis=1)"
   ]
  },
  {
   "cell_type": "code",
   "execution_count": 16,
   "metadata": {},
   "outputs": [],
   "source": [
    "teat_df= test"
   ]
  },
  {
   "cell_type": "code",
   "execution_count": 17,
   "metadata": {},
   "outputs": [],
   "source": [
    "train_df['helping_others'] = train_df['assists'] + train_df['numSaves']"
   ]
  },
  {
   "cell_type": "code",
   "execution_count": 18,
   "metadata": {},
   "outputs": [],
   "source": [
    "test_df['helping_others'] = test_df['assists'] + test_df['numSaves']"
   ]
  },
  {
   "cell_type": "code",
   "execution_count": 19,
   "metadata": {},
   "outputs": [],
   "source": [
    "train_df['totaldist']=train_df['onFootDistance']+train_df['swimmingDistance']+train_df['horseRideDistance']"
   ]
  },
  {
   "cell_type": "code",
   "execution_count": 20,
   "metadata": {},
   "outputs": [],
   "source": [
    "test_df['totaldist']=test_df['onFootDistance']+test_df['swimmingDistance']+test_df['horseRideDistance']"
   ]
  },
  {
   "cell_type": "code",
   "execution_count": 21,
   "metadata": {},
   "outputs": [],
   "source": [
    "train_df['throatslits_over_kills'] = train_df['throatSlits'] / train_df['killPoints']"
   ]
  },
  {
   "cell_type": "code",
   "execution_count": 22,
   "metadata": {},
   "outputs": [],
   "source": [
    "test_df['throatslits_over_kills'] = test_df['throatSlits'] / test_df['killPoints']"
   ]
  },
  {
   "cell_type": "code",
   "execution_count": 23,
   "metadata": {},
   "outputs": [],
   "source": [
    "train=train_df.drop([ 'farthermostKill'],axis=1)\n",
    "train=train_df.drop([ 'farthermostKill'],axis=1)"
   ]
  },
  {
   "cell_type": "code",
   "execution_count": 24,
   "metadata": {},
   "outputs": [],
   "source": [
    "test_df=test_df.drop([ \n",
    "         'assists',\n",
    "       'killingStreaks',  'numSaves',\n",
    "         'throatSlits'\n",
    "       ],axis=1)"
   ]
  },
  {
   "cell_type": "code",
   "execution_count": 25,
   "metadata": {},
   "outputs": [],
   "source": []
  },
  {
   "cell_type": "code",
   "execution_count": 25,
   "metadata": {},
   "outputs": [],
   "source": [
    "train_df=train_df.drop([ \n",
    "         'assists',\n",
    "       'killingStreaks',  'numSaves',\n",
    "         'throatSlits'\n",
    "       ],axis=1)"
   ]
  },
  {
   "cell_type": "code",
   "execution_count": 26,
   "metadata": {},
   "outputs": [],
   "source": [
    "train=train_df"
   ]
  },
  {
   "cell_type": "code",
   "execution_count": 27,
   "metadata": {},
   "outputs": [],
   "source": [
    "test=test_df"
   ]
  },
  {
   "cell_type": "code",
   "execution_count": 28,
   "metadata": {},
   "outputs": [],
   "source": [
    "y = train[\"bestSoldierPerc\"]"
   ]
  },
  {
   "cell_type": "code",
   "execution_count": 29,
   "metadata": {},
   "outputs": [],
   "source": [
    "X = train.drop(\"bestSoldierPerc\", axis=1)"
   ]
  },
  {
   "cell_type": "code",
   "execution_count": 30,
   "metadata": {},
   "outputs": [],
   "source": [
    "x_train, x_test, y_train, y_test = train_test_split(X, y, test_size=0.2,random_state=123)"
   ]
  },
  {
   "cell_type": "code",
   "execution_count": 31,
   "metadata": {},
   "outputs": [
    {
     "name": "stderr",
     "output_type": "stream",
     "text": [
      "Using TensorFlow backend.\n"
     ]
    },
    {
     "name": "stdout",
     "output_type": "stream",
     "text": [
      "WARNING:tensorflow:From /opt/conda/lib/python3.6/site-packages/tensorflow/python/framework/op_def_library.py:263: colocate_with (from tensorflow.python.framework.ops) is deprecated and will be removed in a future version.\n",
      "Instructions for updating:\n",
      "Colocations handled automatically by placer.\n"
     ]
    }
   ],
   "source": [
    "from keras.models import Sequential\n",
    "from keras.models import Sequential\n",
    "from keras.layers.normalization import BatchNormalization\n",
    "from keras.layers.convolutional import Conv2D\n",
    "from keras.layers.convolutional import MaxPooling2D\n",
    "from keras.layers.core import Activation\n",
    "from keras.layers.core import Dropout\n",
    "from keras.layers.core import Dense\n",
    "from keras.layers import Flatten\n",
    "from keras.layers import Input\n",
    "from keras.models import Model\n",
    "model1=Sequential()\n",
    "model1.add(Dense(32, input_dim=x_train.shape[1], activation='relu' ))\n",
    "model1.add(Dense(16, activation='relu' ))\n",
    "model1.add(Dense(8, activation='relu' ))\n",
    "model1.add(Dense(1,activation='linear'))"
   ]
  },
  {
   "cell_type": "code",
   "execution_count": 32,
   "metadata": {},
   "outputs": [],
   "source": [
    "from keras import metrics\n",
    "model1.compile(loss=\"mean_squared_error\", optimizer='adam',metrics=[metrics.mae])"
   ]
  },
  {
   "cell_type": "code",
   "execution_count": 33,
   "metadata": {},
   "outputs": [
    {
     "name": "stdout",
     "output_type": "stream",
     "text": [
      "WARNING:tensorflow:From /opt/conda/lib/python3.6/site-packages/tensorflow/python/ops/math_ops.py:3066: to_int32 (from tensorflow.python.ops.math_ops) is deprecated and will be removed in a future version.\n",
      "Instructions for updating:\n",
      "Use tf.cast instead.\n",
      "Train on 3485868 samples, validate on 871468 samples\n",
      "Epoch 1/100\n",
      "3485868/3485868 [==============================] - 17s 5us/step - loss: 22721178.0106 - mean_absolute_error: 818.1503 - val_loss: 36637.1770 - val_mean_absolute_error: 100.0573\n",
      "Epoch 2/100\n",
      "3485868/3485868 [==============================] - 14s 4us/step - loss: 81960.2441 - mean_absolute_error: 160.5594 - val_loss: 7121.3803 - val_mean_absolute_error: 66.9763\n",
      "Epoch 3/100\n",
      "3485868/3485868 [==============================] - 14s 4us/step - loss: 148469.0659 - mean_absolute_error: 205.3062 - val_loss: 2004.3483 - val_mean_absolute_error: 34.3649\n",
      "Epoch 4/100\n",
      "3485868/3485868 [==============================] - 14s 4us/step - loss: 129320.3332 - mean_absolute_error: 175.4365 - val_loss: 693.5510 - val_mean_absolute_error: 18.3036\n",
      "Epoch 5/100\n",
      "3485868/3485868 [==============================] - 14s 4us/step - loss: 110042.4553 - mean_absolute_error: 159.1572 - val_loss: 184701.2446 - val_mean_absolute_error: 395.3344\n",
      "Epoch 6/100\n",
      "3485868/3485868 [==============================] - 14s 4us/step - loss: 93572.9991 - mean_absolute_error: 159.5501 - val_loss: 381203.2348 - val_mean_absolute_error: 565.7773\n",
      "Epoch 7/100\n",
      "3485868/3485868 [==============================] - 14s 4us/step - loss: 85451.5755 - mean_absolute_error: 125.5783 - val_loss: 14825.1638 - val_mean_absolute_error: 109.1488\n",
      "Epoch 8/100\n",
      "3485868/3485868 [==============================] - 15s 4us/step - loss: 64255.0055 - mean_absolute_error: 120.0628 - val_loss: 1871.5275 - val_mean_absolute_error: 37.0438\n",
      "Epoch 9/100\n",
      "3485868/3485868 [==============================] - 14s 4us/step - loss: 60149.3040 - mean_absolute_error: 103.1275 - val_loss: 1782.1760 - val_mean_absolute_error: 24.1073\n",
      "Epoch 10/100\n",
      "3485868/3485868 [==============================] - 14s 4us/step - loss: 40176.8170 - mean_absolute_error: 84.0011 - val_loss: 15389.3983 - val_mean_absolute_error: 110.2343\n",
      "Epoch 11/100\n",
      "3485868/3485868 [==============================] - 14s 4us/step - loss: 31949.0311 - mean_absolute_error: 94.1367 - val_loss: 697.6629 - val_mean_absolute_error: 20.6128\n",
      "Epoch 12/100\n",
      "3485868/3485868 [==============================] - 14s 4us/step - loss: 21048.3644 - mean_absolute_error: 78.4555 - val_loss: 4110.2854 - val_mean_absolute_error: 58.1462\n",
      "Epoch 13/100\n",
      "3485868/3485868 [==============================] - 14s 4us/step - loss: 13685.6830 - mean_absolute_error: 52.1182 - val_loss: 1162.6599 - val_mean_absolute_error: 29.3893\n",
      "Epoch 14/100\n",
      "3485868/3485868 [==============================] - 14s 4us/step - loss: 5733.3307 - mean_absolute_error: 32.6736 - val_loss: 1559.0972 - val_mean_absolute_error: 33.2140\n",
      "Epoch 15/100\n",
      "3485868/3485868 [==============================] - 14s 4us/step - loss: 1328.0797 - mean_absolute_error: 3.9805 - val_loss: 0.1619 - val_mean_absolute_error: 0.3266\n",
      "Epoch 16/100\n",
      "3485868/3485868 [==============================] - 14s 4us/step - loss: 0.4312 - mean_absolute_error: 0.3743 - val_loss: 0.5908 - val_mean_absolute_error: 0.5924\n",
      "Epoch 17/100\n",
      "3485868/3485868 [==============================] - 14s 4us/step - loss: 0.7173 - mean_absolute_error: 0.4370 - val_loss: 0.1108 - val_mean_absolute_error: 0.2841\n",
      "Epoch 18/100\n",
      "3485868/3485868 [==============================] - 14s 4us/step - loss: 0.1445 - mean_absolute_error: 0.2944 - val_loss: 0.1009 - val_mean_absolute_error: 0.2747\n",
      "Epoch 19/100\n",
      "3485868/3485868 [==============================] - 14s 4us/step - loss: 0.0990 - mean_absolute_error: 0.2719 - val_loss: 0.0956 - val_mean_absolute_error: 0.2688\n",
      "Epoch 20/100\n",
      "3485868/3485868 [==============================] - 14s 4us/step - loss: 0.0951 - mean_absolute_error: 0.2686 - val_loss: 0.0947 - val_mean_absolute_error: 0.2683\n",
      "Epoch 21/100\n",
      "3485868/3485868 [==============================] - 14s 4us/step - loss: 0.0955 - mean_absolute_error: 0.2685 - val_loss: 0.0948 - val_mean_absolute_error: 0.2682\n",
      "Epoch 22/100\n",
      "3485868/3485868 [==============================] - 14s 4us/step - loss: 0.0958 - mean_absolute_error: 0.2684 - val_loss: 0.0948 - val_mean_absolute_error: 0.2683\n",
      "Epoch 23/100\n",
      "3485868/3485868 [==============================] - 14s 4us/step - loss: 0.0948 - mean_absolute_error: 0.2684 - val_loss: 0.0947 - val_mean_absolute_error: 0.2683\n",
      "Epoch 24/100\n",
      "3485868/3485868 [==============================] - 14s 4us/step - loss: 0.0948 - mean_absolute_error: 0.2684 - val_loss: 0.0947 - val_mean_absolute_error: 0.2683\n",
      "Epoch 25/100\n",
      "3485868/3485868 [==============================] - 14s 4us/step - loss: 0.0948 - mean_absolute_error: 0.2684 - val_loss: 0.0947 - val_mean_absolute_error: 0.2683\n",
      "Epoch 26/100\n",
      "3485868/3485868 [==============================] - 14s 4us/step - loss: 0.0948 - mean_absolute_error: 0.2684 - val_loss: 0.0948 - val_mean_absolute_error: 0.2683\n",
      "Epoch 27/100\n",
      "3485868/3485868 [==============================] - 14s 4us/step - loss: 0.0948 - mean_absolute_error: 0.2684 - val_loss: 0.0947 - val_mean_absolute_error: 0.2683\n",
      "Epoch 28/100\n",
      "3485868/3485868 [==============================] - 14s 4us/step - loss: 0.0948 - mean_absolute_error: 0.2684 - val_loss: 0.0947 - val_mean_absolute_error: 0.2682\n",
      "Epoch 29/100\n",
      "3485868/3485868 [==============================] - 14s 4us/step - loss: 0.0948 - mean_absolute_error: 0.2684 - val_loss: 0.0948 - val_mean_absolute_error: 0.2681\n",
      "Epoch 30/100\n",
      "3485868/3485868 [==============================] - 15s 4us/step - loss: 0.0948 - mean_absolute_error: 0.2684 - val_loss: 0.0948 - val_mean_absolute_error: 0.2681\n",
      "Epoch 31/100\n",
      "3485868/3485868 [==============================] - 14s 4us/step - loss: 0.0948 - mean_absolute_error: 0.2684 - val_loss: 0.0947 - val_mean_absolute_error: 0.2682\n",
      "Epoch 32/100\n",
      "3485868/3485868 [==============================] - 14s 4us/step - loss: 0.0948 - mean_absolute_error: 0.2684 - val_loss: 0.0948 - val_mean_absolute_error: 0.2681\n",
      "Epoch 33/100\n",
      "3485868/3485868 [==============================] - 14s 4us/step - loss: 0.0948 - mean_absolute_error: 0.2684 - val_loss: 0.0947 - val_mean_absolute_error: 0.2681\n",
      "Epoch 34/100\n",
      "2587648/3485868 [=====================>........] - ETA: 3s - loss: 0.0948 - mean_absolute_error: 0.2684"
     ]
    }
   ],
   "source": [
    "model1.fit(x_train, y_train, validation_data=(x_test, y_test),epochs=100, batch_size=1024)"
   ]
  },
  {
   "cell_type": "code",
   "execution_count": 34,
   "metadata": {},
   "outputs": [
    {
     "ename": "ValueError",
     "evalue": "Error when checking input: expected dense_1_input to have shape (23,) but got array with shape (25,)",
     "output_type": "error",
     "traceback": [
      "\u001b[0;31m---------------------------------------------------------------------------\u001b[0m",
      "\u001b[0;31mValueError\u001b[0m                                Traceback (most recent call last)",
      "\u001b[0;32m<ipython-input-34-7556fcbe0ee6>\u001b[0m in \u001b[0;36m<module>\u001b[0;34m()\u001b[0m\n\u001b[0;32m----> 1\u001b[0;31m \u001b[0mpreeetd\u001b[0m \u001b[0;34m=\u001b[0m \u001b[0mmodel1\u001b[0m\u001b[0;34m.\u001b[0m\u001b[0mpredict\u001b[0m\u001b[0;34m(\u001b[0m\u001b[0mtest\u001b[0m\u001b[0;34m)\u001b[0m\u001b[0;34m\u001b[0m\u001b[0m\n\u001b[0m",
      "\u001b[0;32m/opt/conda/lib/python3.6/site-packages/keras/engine/training.py\u001b[0m in \u001b[0;36mpredict\u001b[0;34m(self, x, batch_size, verbose, steps)\u001b[0m\n\u001b[1;32m   1147\u001b[0m                              'argument.')\n\u001b[1;32m   1148\u001b[0m         \u001b[0;31m# Validate user data.\u001b[0m\u001b[0;34m\u001b[0m\u001b[0;34m\u001b[0m\u001b[0m\n\u001b[0;32m-> 1149\u001b[0;31m         \u001b[0mx\u001b[0m\u001b[0;34m,\u001b[0m \u001b[0m_\u001b[0m\u001b[0;34m,\u001b[0m \u001b[0m_\u001b[0m \u001b[0;34m=\u001b[0m \u001b[0mself\u001b[0m\u001b[0;34m.\u001b[0m\u001b[0m_standardize_user_data\u001b[0m\u001b[0;34m(\u001b[0m\u001b[0mx\u001b[0m\u001b[0;34m)\u001b[0m\u001b[0;34m\u001b[0m\u001b[0m\n\u001b[0m\u001b[1;32m   1150\u001b[0m         \u001b[0;32mif\u001b[0m \u001b[0mself\u001b[0m\u001b[0;34m.\u001b[0m\u001b[0mstateful\u001b[0m\u001b[0;34m:\u001b[0m\u001b[0;34m\u001b[0m\u001b[0m\n\u001b[1;32m   1151\u001b[0m             \u001b[0;32mif\u001b[0m \u001b[0mx\u001b[0m\u001b[0;34m[\u001b[0m\u001b[0;36m0\u001b[0m\u001b[0;34m]\u001b[0m\u001b[0;34m.\u001b[0m\u001b[0mshape\u001b[0m\u001b[0;34m[\u001b[0m\u001b[0;36m0\u001b[0m\u001b[0;34m]\u001b[0m \u001b[0;34m>\u001b[0m \u001b[0mbatch_size\u001b[0m \u001b[0;32mand\u001b[0m \u001b[0mx\u001b[0m\u001b[0;34m[\u001b[0m\u001b[0;36m0\u001b[0m\u001b[0;34m]\u001b[0m\u001b[0;34m.\u001b[0m\u001b[0mshape\u001b[0m\u001b[0;34m[\u001b[0m\u001b[0;36m0\u001b[0m\u001b[0;34m]\u001b[0m \u001b[0;34m%\u001b[0m \u001b[0mbatch_size\u001b[0m \u001b[0;34m!=\u001b[0m \u001b[0;36m0\u001b[0m\u001b[0;34m:\u001b[0m\u001b[0;34m\u001b[0m\u001b[0m\n",
      "\u001b[0;32m/opt/conda/lib/python3.6/site-packages/keras/engine/training.py\u001b[0m in \u001b[0;36m_standardize_user_data\u001b[0;34m(self, x, y, sample_weight, class_weight, check_array_lengths, batch_size)\u001b[0m\n\u001b[1;32m    749\u001b[0m             \u001b[0mfeed_input_shapes\u001b[0m\u001b[0;34m,\u001b[0m\u001b[0;34m\u001b[0m\u001b[0m\n\u001b[1;32m    750\u001b[0m             \u001b[0mcheck_batch_axis\u001b[0m\u001b[0;34m=\u001b[0m\u001b[0;32mFalse\u001b[0m\u001b[0;34m,\u001b[0m  \u001b[0;31m# Don't enforce the batch size.\u001b[0m\u001b[0;34m\u001b[0m\u001b[0m\n\u001b[0;32m--> 751\u001b[0;31m             exception_prefix='input')\n\u001b[0m\u001b[1;32m    752\u001b[0m \u001b[0;34m\u001b[0m\u001b[0m\n\u001b[1;32m    753\u001b[0m         \u001b[0;32mif\u001b[0m \u001b[0my\u001b[0m \u001b[0;32mis\u001b[0m \u001b[0;32mnot\u001b[0m \u001b[0;32mNone\u001b[0m\u001b[0;34m:\u001b[0m\u001b[0;34m\u001b[0m\u001b[0m\n",
      "\u001b[0;32m/opt/conda/lib/python3.6/site-packages/keras/engine/training_utils.py\u001b[0m in \u001b[0;36mstandardize_input_data\u001b[0;34m(data, names, shapes, check_batch_axis, exception_prefix)\u001b[0m\n\u001b[1;32m    136\u001b[0m                             \u001b[0;34m': expected '\u001b[0m \u001b[0;34m+\u001b[0m \u001b[0mnames\u001b[0m\u001b[0;34m[\u001b[0m\u001b[0mi\u001b[0m\u001b[0;34m]\u001b[0m \u001b[0;34m+\u001b[0m \u001b[0;34m' to have shape '\u001b[0m \u001b[0;34m+\u001b[0m\u001b[0;34m\u001b[0m\u001b[0m\n\u001b[1;32m    137\u001b[0m                             \u001b[0mstr\u001b[0m\u001b[0;34m(\u001b[0m\u001b[0mshape\u001b[0m\u001b[0;34m)\u001b[0m \u001b[0;34m+\u001b[0m \u001b[0;34m' but got array with shape '\u001b[0m \u001b[0;34m+\u001b[0m\u001b[0;34m\u001b[0m\u001b[0m\n\u001b[0;32m--> 138\u001b[0;31m                             str(data_shape))\n\u001b[0m\u001b[1;32m    139\u001b[0m     \u001b[0;32mreturn\u001b[0m \u001b[0mdata\u001b[0m\u001b[0;34m\u001b[0m\u001b[0m\n\u001b[1;32m    140\u001b[0m \u001b[0;34m\u001b[0m\u001b[0m\n",
      "\u001b[0;31mValueError\u001b[0m: Error when checking input: expected dense_1_input to have shape (23,) but got array with shape (25,)"
     ]
    }
   ],
   "source": [
    "preeetd = model1.predict(test)\n"
   ]
  },
  {
   "cell_type": "code",
   "execution_count": 35,
   "metadata": {},
   "outputs": [
    {
     "ename": "NameError",
     "evalue": "name 'preeetd' is not defined",
     "output_type": "error",
     "traceback": [
      "\u001b[0;31m---------------------------------------------------------------------------\u001b[0m",
      "\u001b[0;31mNameError\u001b[0m                                 Traceback (most recent call last)",
      "\u001b[0;32m<ipython-input-35-1045a781c6e7>\u001b[0m in \u001b[0;36m<module>\u001b[0;34m()\u001b[0m\n\u001b[0;32m----> 1\u001b[0;31m \u001b[0mpreeetd\u001b[0m\u001b[0;34m\u001b[0m\u001b[0m\n\u001b[0m\u001b[1;32m      2\u001b[0m \u001b[0mpppp\u001b[0m\u001b[0;34m=\u001b[0m\u001b[0mpreeetd\u001b[0m\u001b[0;34m.\u001b[0m\u001b[0mravel\u001b[0m\u001b[0;34m(\u001b[0m\u001b[0;34m)\u001b[0m\u001b[0;34m\u001b[0m\u001b[0m\n",
      "\u001b[0;31mNameError\u001b[0m: name 'preeetd' is not defined"
     ]
    }
   ],
   "source": [
    "preeetd\n",
    "pppp=preeetd.ravel()"
   ]
  },
  {
   "cell_type": "code",
   "execution_count": 36,
   "metadata": {},
   "outputs": [],
   "source": [
    "tes = pd.read_csv('../input/test.csv')\n",
    "rrrr=tes[\"soldierId\"]"
   ]
  },
  {
   "cell_type": "markdown",
   "metadata": {},
   "source": []
  },
  {
   "cell_type": "code",
   "execution_count": 37,
   "metadata": {
    "_kg_hide-output": true
   },
   "outputs": [
    {
     "ename": "NameError",
     "evalue": "name 'pppp' is not defined",
     "output_type": "error",
     "traceback": [
      "\u001b[0;31m---------------------------------------------------------------------------\u001b[0m",
      "\u001b[0;31mNameError\u001b[0m                                 Traceback (most recent call last)",
      "\u001b[0;32m<ipython-input-37-8079ac6278b7>\u001b[0m in \u001b[0;36m<module>\u001b[0;34m()\u001b[0m\n\u001b[1;32m      1\u001b[0m \u001b[0mvdvvv11\u001b[0m \u001b[0;34m=\u001b[0m \u001b[0mpd\u001b[0m\u001b[0;34m.\u001b[0m\u001b[0mDataFrame\u001b[0m\u001b[0;34m(\u001b[0m\u001b[0mcolumns\u001b[0m\u001b[0;34m=\u001b[0m\u001b[0;34m[\u001b[0m\u001b[0;34m'soldierId'\u001b[0m\u001b[0;34m,\u001b[0m\u001b[0;34m'bestSoldierPerc'\u001b[0m\u001b[0;34m]\u001b[0m\u001b[0;34m)\u001b[0m\u001b[0;34m\u001b[0m\u001b[0m\n\u001b[0;32m----> 2\u001b[0;31m \u001b[0mvdvvv11\u001b[0m\u001b[0;34m[\u001b[0m\u001b[0;34m\"bestSoldierPerc\"\u001b[0m\u001b[0;34m]\u001b[0m\u001b[0;34m=\u001b[0m\u001b[0mpppp\u001b[0m\u001b[0;34m\u001b[0m\u001b[0m\n\u001b[0m\u001b[1;32m      3\u001b[0m \u001b[0mvdvvv11\u001b[0m\u001b[0;34m[\u001b[0m\u001b[0;34m\"soldierId\"\u001b[0m\u001b[0;34m]\u001b[0m\u001b[0;34m=\u001b[0m\u001b[0mrrrr\u001b[0m\u001b[0;34m\u001b[0m\u001b[0m\n\u001b[1;32m      4\u001b[0m \u001b[0mvdvvv11\u001b[0m\u001b[0;34m.\u001b[0m\u001b[0mto_csv\u001b[0m\u001b[0;34m(\u001b[0m\u001b[0;34m\"sub.csv\"\u001b[0m\u001b[0;34m,\u001b[0m\u001b[0mindex\u001b[0m\u001b[0;34m=\u001b[0m\u001b[0;32mFalse\u001b[0m\u001b[0;34m)\u001b[0m\u001b[0;34m\u001b[0m\u001b[0m\n",
      "\u001b[0;31mNameError\u001b[0m: name 'pppp' is not defined"
     ]
    }
   ],
   "source": [
    "vdvvv11 = pd.DataFrame(columns=['soldierId','bestSoldierPerc']) \n",
    "vdvvv11[\"bestSoldierPerc\"]=pppp\n",
    "vdvvv11[\"soldierId\"]=rrrr\n",
    "vdvvv11.to_csv(\"sub.csv\",index=False)"
   ]
  }
 ],
 "metadata": {
  "kernelspec": {
   "display_name": "Python 3",
   "language": "python",
   "name": "python3"
  },
  "language_info": {
   "codemirror_mode": {
    "name": "ipython",
    "version": 3
   },
   "file_extension": ".py",
   "mimetype": "text/x-python",
   "name": "python",
   "nbconvert_exporter": "python",
   "pygments_lexer": "ipython3",
   "version": "3.6.4"
  }
 },
 "nbformat": 4,
 "nbformat_minor": 1
}
